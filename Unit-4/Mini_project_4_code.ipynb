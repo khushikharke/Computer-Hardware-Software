{
 "cells": [
  {
   "cell_type": "code",
   "execution_count": 6,
   "id": "2b95b3d5-2017-4bee-89dd-c54b67546ba7",
   "metadata": {},
   "outputs": [
    {
     "name": "stdout",
     "output_type": "stream",
     "text": [
      "Collecting pyspark\n",
      "  Downloading pyspark-3.5.1.tar.gz (317.0 MB)\n",
      "\u001b[2K     \u001b[38;2;114;156;31m━━━━━━━━━━━━━━━━━━━━━━━━━━━━━━━━━━━━━━━\u001b[0m \u001b[32m317.0/317.0 MB\u001b[0m \u001b[31m7.1 MB/s\u001b[0m eta \u001b[36m0:00:00\u001b[0mm eta \u001b[36m0:00:01\u001b[0m[36m0:00:01\u001b[0m\n",
      "\u001b[?25h  Preparing metadata (setup.py) ... \u001b[?25ldone\n",
      "\u001b[?25hCollecting py4j==0.10.9.7 (from pyspark)\n",
      "  Obtaining dependency information for py4j==0.10.9.7 from https://files.pythonhosted.org/packages/10/30/a58b32568f1623aaad7db22aa9eafc4c6c194b429ff35bdc55ca2726da47/py4j-0.10.9.7-py2.py3-none-any.whl.metadata\n",
      "  Downloading py4j-0.10.9.7-py2.py3-none-any.whl.metadata (1.5 kB)\n",
      "Downloading py4j-0.10.9.7-py2.py3-none-any.whl (200 kB)\n",
      "\u001b[2K   \u001b[38;2;114;156;31m━━━━━━━━━━━━━━━━━━━━━━━━━━━━━━━━━━━━━━━━\u001b[0m \u001b[32m200.5/200.5 kB\u001b[0m \u001b[31m12.9 MB/s\u001b[0m eta \u001b[36m0:00:00\u001b[0m\n",
      "\u001b[?25hBuilding wheels for collected packages: pyspark\n",
      "  Building wheel for pyspark (setup.py) ... \u001b[?25ldone\n",
      "\u001b[?25h  Created wheel for pyspark: filename=pyspark-3.5.1-py2.py3-none-any.whl size=317488496 sha256=6b20c79a737cd3f5711efe941a4d5fa08d988e04ee40eddfe076595be59cb05b\n",
      "  Stored in directory: /Users/ayushkumar/Library/Caches/pip/wheels/80/1d/60/2c256ed38dddce2fdd93be545214a63e02fbd8d74fb0b7f3a6\n",
      "Successfully built pyspark\n",
      "Installing collected packages: py4j, pyspark\n",
      "Successfully installed py4j-0.10.9.7 pyspark-3.5.1\n",
      "\n",
      "\u001b[1m[\u001b[0m\u001b[34;49mnotice\u001b[0m\u001b[1;39;49m]\u001b[0m\u001b[39;49m A new release of pip is available: \u001b[0m\u001b[31;49m23.2.1\u001b[0m\u001b[39;49m -> \u001b[0m\u001b[32;49m24.0\u001b[0m\n",
      "\u001b[1m[\u001b[0m\u001b[34;49mnotice\u001b[0m\u001b[1;39;49m]\u001b[0m\u001b[39;49m To update, run: \u001b[0m\u001b[32;49m/Library/Frameworks/Python.framework/Versions/3.10/bin/python3 -m pip install --upgrade pip\u001b[0m\n",
      "Note: you may need to restart the kernel to use updated packages.\n"
     ]
    }
   ],
   "source": [
    "pip install pyspark"
   ]
  },
  {
   "cell_type": "code",
   "execution_count": 1,
   "id": "d088a793-6cdd-4650-8ba7-688865d6c363",
   "metadata": {},
   "outputs": [],
   "source": [
    "import pyspark\n"
   ]
  },
  {
   "cell_type": "code",
   "execution_count": 2,
   "id": "c8309810-25bc-439c-a58f-9ddd6786c1b5",
   "metadata": {},
   "outputs": [],
   "source": [
    "from pyspark.sql import SparkSession"
   ]
  },
  {
   "cell_type": "code",
   "execution_count": 3,
   "id": "66474a3f-2556-419c-bf32-7f6134d5172f",
   "metadata": {},
   "outputs": [
    {
     "name": "stderr",
     "output_type": "stream",
     "text": [
      "24/03/12 10:46:44 WARN Utils: Your hostname, Ayushs-MacBook-Air-4.local resolves to a loopback address: 127.0.0.1; using 10.100.156.248 instead (on interface en0)\n",
      "24/03/12 10:46:44 WARN Utils: Set SPARK_LOCAL_IP if you need to bind to another address\n",
      "Setting default log level to \"WARN\".\n",
      "To adjust logging level use sc.setLogLevel(newLevel). For SparkR, use setLogLevel(newLevel).\n",
      "24/03/12 10:46:44 WARN NativeCodeLoader: Unable to load native-hadoop library for your platform... using builtin-java classes where applicable\n",
      "24/03/12 10:46:58 WARN GarbageCollectionMetrics: To enable non-built-in garbage collector(s) List(G1 Concurrent GC), users should configure it(them) to spark.eventLog.gcMetrics.youngGenerationGarbageCollectors or spark.eventLog.gcMetrics.oldGenerationGarbageCollectors\n"
     ]
    }
   ],
   "source": [
    "spark=SparkSession.builder.appName('Practise').getOrCreate()"
   ]
  },
  {
   "cell_type": "code",
   "execution_count": 4,
   "id": "b9420fda-3c2e-44d1-81af-48edd7087e6a",
   "metadata": {},
   "outputs": [
    {
     "data": {
      "text/html": [
       "\n",
       "            <div>\n",
       "                <p><b>SparkSession - in-memory</b></p>\n",
       "                \n",
       "        <div>\n",
       "            <p><b>SparkContext</b></p>\n",
       "\n",
       "            <p><a href=\"http://10.100.156.248:4040\">Spark UI</a></p>\n",
       "\n",
       "            <dl>\n",
       "              <dt>Version</dt>\n",
       "                <dd><code>v3.5.1</code></dd>\n",
       "              <dt>Master</dt>\n",
       "                <dd><code>local[*]</code></dd>\n",
       "              <dt>AppName</dt>\n",
       "                <dd><code>Practise</code></dd>\n",
       "            </dl>\n",
       "        </div>\n",
       "        \n",
       "            </div>\n",
       "        "
      ],
      "text/plain": [
       "<pyspark.sql.session.SparkSession at 0x10b211900>"
      ]
     },
     "execution_count": 4,
     "metadata": {},
     "output_type": "execute_result"
    }
   ],
   "source": [
    "spark\n"
   ]
  },
  {
   "cell_type": "code",
   "execution_count": 5,
   "id": "22c9b27e-0123-4541-8819-79cd27178b10",
   "metadata": {},
   "outputs": [],
   "source": [
    "df_pyspark=spark.read.csv('1000 Sales Records.csv',header=True,inferSchema=True)"
   ]
  },
  {
   "cell_type": "code",
   "execution_count": 6,
   "id": "0ceb2898-4f91-4bf8-a9c1-506c14014a92",
   "metadata": {},
   "outputs": [
    {
     "data": {
      "text/plain": [
       "DataFrame[Region: string, Country: string, Item Type: string, Sales Channel: string, Order Priority: string, Order Date: string, Order ID: int, Ship Date: string, Units Sold: int, Unit Price: double, Unit Cost: double, Total Revenue: double, Total Cost: double, Total Profit: double]"
      ]
     },
     "execution_count": 6,
     "metadata": {},
     "output_type": "execute_result"
    }
   ],
   "source": [
    "df_pyspark\n"
   ]
  },
  {
   "cell_type": "code",
   "execution_count": 7,
   "id": "57f9e1b4-81fb-4f6c-a4b6-3deba00ee468",
   "metadata": {},
   "outputs": [
    {
     "name": "stdout",
     "output_type": "stream",
     "text": [
      "+--------------------+----------+---------------+-------------+--------------+----------+---------+----------+----------+----------+---------+-------------+----------+------------+\n",
      "|              Region|   Country|      Item Type|Sales Channel|Order Priority|Order Date| Order ID| Ship Date|Units Sold|Unit Price|Unit Cost|Total Revenue|Total Cost|Total Profit|\n",
      "+--------------------+----------+---------------+-------------+--------------+----------+---------+----------+----------+----------+---------+-------------+----------+------------+\n",
      "|Middle East and N...|      NULL|      Cosmetics|      Offline|             M|10/18/2014|686800706|10/31/2014|      8446|     437.2|   263.33|    3692591.2|2224085.18|  1468506.02|\n",
      "|       North America|    Canada|     Vegetables|       Online|             M| 11/7/2011|185941302| 12/8/2011|      NULL|    154.06|    90.93|         NULL| 274426.74|   190526.34|\n",
      "|Middle East and N...|     Libya|      Baby Food|      Offline|             C|10/31/2016|246222341| 12/9/2016|      1517|      NULL|   159.42|    387259.76|      NULL|   145419.62|\n",
      "|                Asia|     Japan|         Cereal|      Offline|             C| 4/10/2010|161442649| 5/12/2010|      3322|     205.7|     NULL|     683335.4| 389039.42|   294295.98|\n",
      "|  Sub-Saharan Africa|      Chad|         Fruits|      Offline|             H| 8/16/2011|645713555| 8/31/2011|      9845|      9.33|     6.92|     91853.85|      NULL|    23726.45|\n",
      "|              Europe|   Armenia|         Cereal|       Online|             H|11/24/2014|683458888|12/28/2014|      9528|     205.7|   117.11|         NULL|      NULL|   844085.52|\n",
      "|  Sub-Saharan Africa|   Eritrea|         Cereal|       Online|             H|  3/4/2015|679414975| 4/17/2015|      2844|      NULL|   117.11|     585010.8| 333060.84|   251949.96|\n",
      "|              Europe|Montenegro|        Clothes|      Offline|             M| 5/17/2012|208630645| 6/28/2012|      7299|      NULL|    35.84|    797634.72| 261596.16|   536038.56|\n",
      "|Central America a...|      NULL|     Vegetables|       Online|             H| 1/29/2015|266467225|  3/7/2015|      2428|    154.06|    90.93|         NULL| 220778.04|   153279.64|\n",
      "|Australia and Oce...|      Fiji|     Vegetables|      Offline|             H|12/24/2013|118598544| 1/19/2014|      4800|      NULL|    90.93|     739488.0|  436464.0|    303024.0|\n",
      "|  Sub-Saharan Africa|      NULL|        Clothes|       Online|             M|12/29/2015|451010930| 1/19/2016|      3012|    109.28|     NULL|         NULL| 107950.08|   221201.28|\n",
      "|              Europe|Montenegro|         Snacks|      Offline|             M| 2/27/2010|220003211| 3/18/2010|      2694|    152.58|     NULL|         NULL| 262503.36|   148547.16|\n",
      "|              Europe|      NULL|      Household|       Online|             C|11/17/2016|702186715|12/22/2016|      1508|    668.27|     NULL|   1007751.16|      NULL|   249920.84|\n",
      "|  Sub-Saharan Africa|     Sudan|      Cosmetics|       Online|             C|12/20/2015|544485270|  1/5/2016|      4146|     437.2|   263.33|    1812631.2|1091766.18|   720865.02|\n",
      "|                Asia|  Maldives|         Fruits|      Offline|             L|  1/8/2011|714135205|  2/6/2011|      7332|      NULL|     6.92|     68407.56|  50737.44|    17670.12|\n",
      "|              Europe|Montenegro|        Clothes|      Offline|             H| 6/28/2010|448685348| 7/22/2010|      4820|      NULL|     NULL|         NULL|  172748.8|    353980.8|\n",
      "|              Europe|      NULL|Office Supplies|       Online|             H| 4/25/2016|405997025| 5/12/2016|      2397|    651.21|   524.96|   1560950.37|1258329.12|   302621.25|\n",
      "|       North America| Greenland|      Beverages|       Online|             M| 7/27/2012|414244067|  8/7/2012|      2880|     47.45|    31.79|     136656.0|   91555.2|     45100.8|\n",
      "|  Sub-Saharan Africa|Cape Verde|        Clothes|       Online|             C|  9/8/2014|821912801| 10/3/2014|      NULL|    109.28|    35.84|         NULL|  40033.28|    82032.48|\n",
      "|  Sub-Saharan Africa|   Senegal|      Household|      Offline|             L| 8/27/2012|247802054|  9/8/2012|      8989|    668.27|   502.54|   6007079.03|4517332.06|  1489746.97|\n",
      "+--------------------+----------+---------------+-------------+--------------+----------+---------+----------+----------+----------+---------+-------------+----------+------------+\n",
      "only showing top 20 rows\n",
      "\n"
     ]
    }
   ],
   "source": [
    "df_pyspark.show()"
   ]
  },
  {
   "cell_type": "code",
   "execution_count": 8,
   "id": "0843c974-a15e-4886-8d63-d2a8c863753f",
   "metadata": {},
   "outputs": [
    {
     "data": {
      "text/plain": [
       "[Row(Region='Middle East and North Africa', Country=None, Item Type='Cosmetics', Sales Channel='Offline', Order Priority='M', Order Date='10/18/2014', Order ID=686800706, Ship Date='10/31/2014', Units Sold=8446, Unit Price=437.2, Unit Cost=263.33, Total Revenue=3692591.2, Total Cost=2224085.18, Total Profit=1468506.02),\n",
       " Row(Region='North America', Country='Canada', Item Type='Vegetables', Sales Channel='Online', Order Priority='M', Order Date='11/7/2011', Order ID=185941302, Ship Date='12/8/2011', Units Sold=None, Unit Price=154.06, Unit Cost=90.93, Total Revenue=None, Total Cost=274426.74, Total Profit=190526.34),\n",
       " Row(Region='Middle East and North Africa', Country='Libya', Item Type='Baby Food', Sales Channel='Offline', Order Priority='C', Order Date='10/31/2016', Order ID=246222341, Ship Date='12/9/2016', Units Sold=1517, Unit Price=None, Unit Cost=159.42, Total Revenue=387259.76, Total Cost=None, Total Profit=145419.62)]"
      ]
     },
     "execution_count": 8,
     "metadata": {},
     "output_type": "execute_result"
    }
   ],
   "source": [
    "df_pyspark.head(3)"
   ]
  },
  {
   "cell_type": "code",
   "execution_count": 9,
   "id": "35858de6-ac08-4ed9-b842-f2a911587ee8",
   "metadata": {},
   "outputs": [],
   "source": [
    "df_pyspark=df_pyspark.drop('Ship Date')"
   ]
  },
  {
   "cell_type": "code",
   "execution_count": 10,
   "id": "76f83278-1572-4b71-abfe-313b3a790a67",
   "metadata": {},
   "outputs": [
    {
     "data": {
      "text/plain": [
       "DataFrame[Region: string, Country: string, Item Type: string, Sales Channel: string, Order Priority: string, Order Date: string, Order ID: int, Units Sold: int, Unit Price: double, Unit Cost: double, Total Revenue: double, Total Cost: double, Total Profit: double]"
      ]
     },
     "execution_count": 10,
     "metadata": {},
     "output_type": "execute_result"
    }
   ],
   "source": [
    "df_pyspark"
   ]
  },
  {
   "cell_type": "code",
   "execution_count": 97,
   "id": "a08a20e5-5795-4e67-a87b-770dedb392be",
   "metadata": {},
   "outputs": [
    {
     "name": "stdout",
     "output_type": "stream",
     "text": [
      "+--------------------+----------+---------------+-------------+--------------+----------+---------+----------+----------+---------+-------------+----------+------------+\n",
      "|              Region|   Country|      Item Type|Sales Channel|Order Priority|Order Date| Order ID|Units Sold|Unit Price|Unit Cost|Total Revenue|Total Cost|Total Profit|\n",
      "+--------------------+----------+---------------+-------------+--------------+----------+---------+----------+----------+---------+-------------+----------+------------+\n",
      "|Middle East and N...|      NULL|      Cosmetics|      Offline|             M|10/18/2014|686800706|      8446|     437.2|   263.33|    3692591.2|2224085.18|  1468506.02|\n",
      "|       North America|    Canada|     Vegetables|       Online|             M| 11/7/2011|185941302|      NULL|    154.06|    90.93|         NULL| 274426.74|   190526.34|\n",
      "|Middle East and N...|     Libya|      Baby Food|      Offline|             C|10/31/2016|246222341|      1517|      NULL|   159.42|    387259.76|      NULL|   145419.62|\n",
      "|                Asia|     Japan|         Cereal|      Offline|             C| 4/10/2010|161442649|      3322|     205.7|     NULL|     683335.4| 389039.42|   294295.98|\n",
      "|  Sub-Saharan Africa|      Chad|         Fruits|      Offline|             H| 8/16/2011|645713555|      9845|      9.33|     6.92|     91853.85|      NULL|    23726.45|\n",
      "|              Europe|   Armenia|         Cereal|       Online|             H|11/24/2014|683458888|      9528|     205.7|   117.11|         NULL|      NULL|   844085.52|\n",
      "|  Sub-Saharan Africa|   Eritrea|         Cereal|       Online|             H|  3/4/2015|679414975|      2844|      NULL|   117.11|     585010.8| 333060.84|   251949.96|\n",
      "|              Europe|Montenegro|        Clothes|      Offline|             M| 5/17/2012|208630645|      7299|      NULL|    35.84|    797634.72| 261596.16|   536038.56|\n",
      "|Central America a...|      NULL|     Vegetables|       Online|             H| 1/29/2015|266467225|      2428|    154.06|    90.93|         NULL| 220778.04|   153279.64|\n",
      "|Australia and Oce...|      Fiji|     Vegetables|      Offline|             H|12/24/2013|118598544|      4800|      NULL|    90.93|     739488.0|  436464.0|    303024.0|\n",
      "|  Sub-Saharan Africa|      NULL|        Clothes|       Online|             M|12/29/2015|451010930|      3012|    109.28|     NULL|         NULL| 107950.08|   221201.28|\n",
      "|              Europe|Montenegro|         Snacks|      Offline|             M| 2/27/2010|220003211|      2694|    152.58|     NULL|         NULL| 262503.36|   148547.16|\n",
      "|              Europe|      NULL|      Household|       Online|             C|11/17/2016|702186715|      1508|    668.27|     NULL|   1007751.16|      NULL|   249920.84|\n",
      "|  Sub-Saharan Africa|     Sudan|      Cosmetics|       Online|             C|12/20/2015|544485270|      4146|     437.2|   263.33|    1812631.2|1091766.18|   720865.02|\n",
      "|                Asia|  Maldives|         Fruits|      Offline|             L|  1/8/2011|714135205|      7332|      NULL|     6.92|     68407.56|  50737.44|    17670.12|\n",
      "|              Europe|Montenegro|        Clothes|      Offline|             H| 6/28/2010|448685348|      4820|      NULL|     NULL|         NULL|  172748.8|    353980.8|\n",
      "|              Europe|      NULL|Office Supplies|       Online|             H| 4/25/2016|405997025|      2397|    651.21|   524.96|   1560950.37|1258329.12|   302621.25|\n",
      "|       North America| Greenland|      Beverages|       Online|             M| 7/27/2012|414244067|      2880|     47.45|    31.79|     136656.0|   91555.2|     45100.8|\n",
      "|  Sub-Saharan Africa|Cape Verde|        Clothes|       Online|             C|  9/8/2014|821912801|      NULL|    109.28|    35.84|         NULL|  40033.28|    82032.48|\n",
      "|  Sub-Saharan Africa|   Senegal|      Household|      Offline|             L| 8/27/2012|247802054|      8989|    668.27|   502.54|   6007079.03|4517332.06|  1489746.97|\n",
      "+--------------------+----------+---------------+-------------+--------------+----------+---------+----------+----------+---------+-------------+----------+------------+\n",
      "only showing top 20 rows\n",
      "\n"
     ]
    }
   ],
   "source": [
    "df_pyspark.show()"
   ]
  },
  {
   "cell_type": "code",
   "execution_count": 11,
   "id": "11da0c58-790a-4055-9ffc-b8114b8f5648",
   "metadata": {},
   "outputs": [],
   "source": [
    "df_pyspark=df_pyspark.na.drop(how=\"any\",subset=['Country'])"
   ]
  },
  {
   "cell_type": "code",
   "execution_count": 12,
   "id": "4e8c7e7a-c4dc-487c-be1e-bc660d9b5b1d",
   "metadata": {},
   "outputs": [
    {
     "name": "stdout",
     "output_type": "stream",
     "text": [
      "+--------------------+--------------------+----------+-------------+--------------+----------+---------+----------+----------+---------+-------------+----------+------------+\n",
      "|              Region|             Country| Item Type|Sales Channel|Order Priority|Order Date| Order ID|Units Sold|Unit Price|Unit Cost|Total Revenue|Total Cost|Total Profit|\n",
      "+--------------------+--------------------+----------+-------------+--------------+----------+---------+----------+----------+---------+-------------+----------+------------+\n",
      "|       North America|              Canada|Vegetables|       Online|             M| 11/7/2011|185941302|      NULL|    154.06|    90.93|         NULL| 274426.74|   190526.34|\n",
      "|Middle East and N...|               Libya| Baby Food|      Offline|             C|10/31/2016|246222341|      1517|      NULL|   159.42|    387259.76|      NULL|   145419.62|\n",
      "|                Asia|               Japan|    Cereal|      Offline|             C| 4/10/2010|161442649|      3322|     205.7|     NULL|     683335.4| 389039.42|   294295.98|\n",
      "|  Sub-Saharan Africa|                Chad|    Fruits|      Offline|             H| 8/16/2011|645713555|      9845|      9.33|     6.92|     91853.85|      NULL|    23726.45|\n",
      "|              Europe|             Armenia|    Cereal|       Online|             H|11/24/2014|683458888|      9528|     205.7|   117.11|         NULL|      NULL|   844085.52|\n",
      "|  Sub-Saharan Africa|             Eritrea|    Cereal|       Online|             H|  3/4/2015|679414975|      2844|      NULL|   117.11|     585010.8| 333060.84|   251949.96|\n",
      "|              Europe|          Montenegro|   Clothes|      Offline|             M| 5/17/2012|208630645|      7299|      NULL|    35.84|    797634.72| 261596.16|   536038.56|\n",
      "|Australia and Oce...|                Fiji|Vegetables|      Offline|             H|12/24/2013|118598544|      4800|      NULL|    90.93|     739488.0|  436464.0|    303024.0|\n",
      "|              Europe|          Montenegro|    Snacks|      Offline|             M| 2/27/2010|220003211|      2694|    152.58|     NULL|         NULL| 262503.36|   148547.16|\n",
      "|  Sub-Saharan Africa|               Sudan| Cosmetics|       Online|             C|12/20/2015|544485270|      4146|     437.2|   263.33|    1812631.2|1091766.18|   720865.02|\n",
      "|                Asia|            Maldives|    Fruits|      Offline|             L|  1/8/2011|714135205|      7332|      NULL|     6.92|     68407.56|  50737.44|    17670.12|\n",
      "|              Europe|          Montenegro|   Clothes|      Offline|             H| 6/28/2010|448685348|      4820|      NULL|     NULL|         NULL|  172748.8|    353980.8|\n",
      "|       North America|           Greenland| Beverages|       Online|             M| 7/27/2012|414244067|      2880|     47.45|    31.79|     136656.0|   91555.2|     45100.8|\n",
      "|  Sub-Saharan Africa|          Cape Verde|   Clothes|       Online|             C|  9/8/2014|821912801|      NULL|    109.28|    35.84|         NULL|  40033.28|    82032.48|\n",
      "|  Sub-Saharan Africa|             Senegal| Household|      Offline|             L| 8/27/2012|247802054|      8989|    668.27|   502.54|   6007079.03|4517332.06|  1489746.97|\n",
      "|Australia and Oce...|Federated States ...|    Snacks|       Online|             C|  9/3/2012|531023156|       407|    152.58|    97.44|     62100.06|  39658.08|    22441.98|\n",
      "|                Asia|            Mongolia|   Clothes|       Online|             L|12/12/2015|770478332|       515|    109.28|    35.84|      56279.2|      NULL|     37821.6|\n",
      "|Central America a...|             Grenada|    Cereal|       Online|             H|10/28/2012|430390107|       852|     205.7|   117.11|     175256.4|      NULL|    75478.68|\n",
      "|  Sub-Saharan Africa|             Senegal| Beverages|      Offline|             M|10/22/2014|683927953|      NULL|     47.45|     NULL|     395448.3|      NULL|   130510.44|\n",
      "|       North America|           Greenland|    Fruits|      Offline|             M| 1/31/2012|469839179|      4709|      NULL|     6.92|     43934.97|  32586.28|    11348.69|\n",
      "+--------------------+--------------------+----------+-------------+--------------+----------+---------+----------+----------+---------+-------------+----------+------------+\n",
      "only showing top 20 rows\n",
      "\n"
     ]
    }
   ],
   "source": [
    "df_pyspark.show()"
   ]
  },
  {
   "cell_type": "code",
   "execution_count": 13,
   "id": "406614fb-e529-4590-bea8-3edbee85349f",
   "metadata": {},
   "outputs": [],
   "source": [
    "from pyspark.ml.feature import Imputer\n",
    "\n",
    "imputer = Imputer(\n",
    "    inputCols=['Units Sold','Unit Price', 'Unit Cost', 'Total Revenue','Total Cost'], \n",
    "    outputCols=[\"{}_imputed\".format(c) for c in ['Units Sold','Unit Price', 'Unit Cost', 'Total Revenue','Total Cost']]\n",
    "    ).setStrategy(\"median\")"
   ]
  },
  {
   "cell_type": "code",
   "execution_count": 14,
   "id": "d0018ace-0624-4cbd-86d5-f31a77d68418",
   "metadata": {},
   "outputs": [
    {
     "name": "stdout",
     "output_type": "stream",
     "text": [
      "+--------------------+--------------------+----------+-------------+--------------+----------+---------+----------+----------+---------+-------------+----------+------------+------------------+------------------+-----------------+---------------------+------------------+\n",
      "|              Region|             Country| Item Type|Sales Channel|Order Priority|Order Date| Order ID|Units Sold|Unit Price|Unit Cost|Total Revenue|Total Cost|Total Profit|Units Sold_imputed|Unit Price_imputed|Unit Cost_imputed|Total Revenue_imputed|Total Cost_imputed|\n",
      "+--------------------+--------------------+----------+-------------+--------------+----------+---------+----------+----------+---------+-------------+----------+------------+------------------+------------------+-----------------+---------------------+------------------+\n",
      "|       North America|              Canada|Vegetables|       Online|             M| 11/7/2011|185941302|      NULL|    154.06|    90.93|         NULL| 274426.74|   190526.34|              5006|            154.06|            90.93|             785706.0|         274426.74|\n",
      "|Middle East and N...|               Libya| Baby Food|      Offline|             C|10/31/2016|246222341|      1517|      NULL|   159.42|    387259.76|      NULL|   145419.62|              1517|            154.06|           159.42|            387259.76|         448429.71|\n",
      "|                Asia|               Japan|    Cereal|      Offline|             C| 4/10/2010|161442649|      3322|     205.7|     NULL|     683335.4| 389039.42|   294295.98|              3322|             205.7|            97.44|             683335.4|         389039.42|\n",
      "|  Sub-Saharan Africa|                Chad|    Fruits|      Offline|             H| 8/16/2011|645713555|      9845|      9.33|     6.92|     91853.85|      NULL|    23726.45|              9845|              9.33|             6.92|             91853.85|         448429.71|\n",
      "|              Europe|             Armenia|    Cereal|       Online|             H|11/24/2014|683458888|      9528|     205.7|   117.11|         NULL|      NULL|   844085.52|              9528|             205.7|           117.11|             785706.0|         448429.71|\n",
      "|  Sub-Saharan Africa|             Eritrea|    Cereal|       Online|             H|  3/4/2015|679414975|      2844|      NULL|   117.11|     585010.8| 333060.84|   251949.96|              2844|            154.06|           117.11|             585010.8|         333060.84|\n",
      "|              Europe|          Montenegro|   Clothes|      Offline|             M| 5/17/2012|208630645|      7299|      NULL|    35.84|    797634.72| 261596.16|   536038.56|              7299|            154.06|            35.84|            797634.72|         261596.16|\n",
      "|Australia and Oce...|                Fiji|Vegetables|      Offline|             H|12/24/2013|118598544|      4800|      NULL|    90.93|     739488.0|  436464.0|    303024.0|              4800|            154.06|            90.93|             739488.0|          436464.0|\n",
      "|              Europe|          Montenegro|    Snacks|      Offline|             M| 2/27/2010|220003211|      2694|    152.58|     NULL|         NULL| 262503.36|   148547.16|              2694|            152.58|            97.44|             785706.0|         262503.36|\n",
      "|  Sub-Saharan Africa|               Sudan| Cosmetics|       Online|             C|12/20/2015|544485270|      4146|     437.2|   263.33|    1812631.2|1091766.18|   720865.02|              4146|             437.2|           263.33|            1812631.2|        1091766.18|\n",
      "|                Asia|            Maldives|    Fruits|      Offline|             L|  1/8/2011|714135205|      7332|      NULL|     6.92|     68407.56|  50737.44|    17670.12|              7332|            154.06|             6.92|             68407.56|          50737.44|\n",
      "|              Europe|          Montenegro|   Clothes|      Offline|             H| 6/28/2010|448685348|      4820|      NULL|     NULL|         NULL|  172748.8|    353980.8|              4820|            154.06|            97.44|             785706.0|          172748.8|\n",
      "|       North America|           Greenland| Beverages|       Online|             M| 7/27/2012|414244067|      2880|     47.45|    31.79|     136656.0|   91555.2|     45100.8|              2880|             47.45|            31.79|             136656.0|           91555.2|\n",
      "|  Sub-Saharan Africa|          Cape Verde|   Clothes|       Online|             C|  9/8/2014|821912801|      NULL|    109.28|    35.84|         NULL|  40033.28|    82032.48|              5006|            109.28|            35.84|             785706.0|          40033.28|\n",
      "|  Sub-Saharan Africa|             Senegal| Household|      Offline|             L| 8/27/2012|247802054|      8989|    668.27|   502.54|   6007079.03|4517332.06|  1489746.97|              8989|            668.27|           502.54|           6007079.03|        4517332.06|\n",
      "|Australia and Oce...|Federated States ...|    Snacks|       Online|             C|  9/3/2012|531023156|       407|    152.58|    97.44|     62100.06|  39658.08|    22441.98|               407|            152.58|            97.44|             62100.06|          39658.08|\n",
      "|                Asia|            Mongolia|   Clothes|       Online|             L|12/12/2015|770478332|       515|    109.28|    35.84|      56279.2|      NULL|     37821.6|               515|            109.28|            35.84|              56279.2|         448429.71|\n",
      "|Central America a...|             Grenada|    Cereal|       Online|             H|10/28/2012|430390107|       852|     205.7|   117.11|     175256.4|      NULL|    75478.68|               852|             205.7|           117.11|             175256.4|         448429.71|\n",
      "|  Sub-Saharan Africa|             Senegal| Beverages|      Offline|             M|10/22/2014|683927953|      NULL|     47.45|     NULL|     395448.3|      NULL|   130510.44|              5006|             47.45|            97.44|             395448.3|         448429.71|\n",
      "|       North America|           Greenland|    Fruits|      Offline|             M| 1/31/2012|469839179|      4709|      NULL|     6.92|     43934.97|  32586.28|    11348.69|              4709|            154.06|             6.92|             43934.97|          32586.28|\n",
      "+--------------------+--------------------+----------+-------------+--------------+----------+---------+----------+----------+---------+-------------+----------+------------+------------------+------------------+-----------------+---------------------+------------------+\n",
      "only showing top 20 rows\n",
      "\n"
     ]
    }
   ],
   "source": [
    "imputer.fit(df_pyspark).transform(df_pyspark).show()"
   ]
  },
  {
   "cell_type": "code",
   "execution_count": 15,
   "id": "65abc334-5dd0-440c-8ce7-68e730d61b39",
   "metadata": {},
   "outputs": [
    {
     "name": "stdout",
     "output_type": "stream",
     "text": [
      "+--------------------+--------------------+----------+-------------+--------------+----------+---------+----------+----------+---------+-------------+----------+------------+\n",
      "|              Region|             Country| Item Type|Sales Channel|Order Priority|Order Date| Order ID|Units Sold|Unit Price|Unit Cost|Total Revenue|Total Cost|Total Profit|\n",
      "+--------------------+--------------------+----------+-------------+--------------+----------+---------+----------+----------+---------+-------------+----------+------------+\n",
      "|       North America|              Canada|Vegetables|       Online|             M| 11/7/2011|185941302|      NULL|    154.06|    90.93|         NULL| 274426.74|   190526.34|\n",
      "|Middle East and N...|               Libya| Baby Food|      Offline|             C|10/31/2016|246222341|      1517|      NULL|   159.42|    387259.76|      NULL|   145419.62|\n",
      "|                Asia|               Japan|    Cereal|      Offline|             C| 4/10/2010|161442649|      3322|     205.7|     NULL|     683335.4| 389039.42|   294295.98|\n",
      "|  Sub-Saharan Africa|                Chad|    Fruits|      Offline|             H| 8/16/2011|645713555|      9845|      9.33|     6.92|     91853.85|      NULL|    23726.45|\n",
      "|              Europe|             Armenia|    Cereal|       Online|             H|11/24/2014|683458888|      9528|     205.7|   117.11|         NULL|      NULL|   844085.52|\n",
      "|  Sub-Saharan Africa|             Eritrea|    Cereal|       Online|             H|  3/4/2015|679414975|      2844|      NULL|   117.11|     585010.8| 333060.84|   251949.96|\n",
      "|              Europe|          Montenegro|   Clothes|      Offline|             M| 5/17/2012|208630645|      7299|      NULL|    35.84|    797634.72| 261596.16|   536038.56|\n",
      "|Australia and Oce...|                Fiji|Vegetables|      Offline|             H|12/24/2013|118598544|      4800|      NULL|    90.93|     739488.0|  436464.0|    303024.0|\n",
      "|              Europe|          Montenegro|    Snacks|      Offline|             M| 2/27/2010|220003211|      2694|    152.58|     NULL|         NULL| 262503.36|   148547.16|\n",
      "|  Sub-Saharan Africa|               Sudan| Cosmetics|       Online|             C|12/20/2015|544485270|      4146|     437.2|   263.33|    1812631.2|1091766.18|   720865.02|\n",
      "|                Asia|            Maldives|    Fruits|      Offline|             L|  1/8/2011|714135205|      7332|      NULL|     6.92|     68407.56|  50737.44|    17670.12|\n",
      "|              Europe|          Montenegro|   Clothes|      Offline|             H| 6/28/2010|448685348|      4820|      NULL|     NULL|         NULL|  172748.8|    353980.8|\n",
      "|       North America|           Greenland| Beverages|       Online|             M| 7/27/2012|414244067|      2880|     47.45|    31.79|     136656.0|   91555.2|     45100.8|\n",
      "|  Sub-Saharan Africa|          Cape Verde|   Clothes|       Online|             C|  9/8/2014|821912801|      NULL|    109.28|    35.84|         NULL|  40033.28|    82032.48|\n",
      "|  Sub-Saharan Africa|             Senegal| Household|      Offline|             L| 8/27/2012|247802054|      8989|    668.27|   502.54|   6007079.03|4517332.06|  1489746.97|\n",
      "|Australia and Oce...|Federated States ...|    Snacks|       Online|             C|  9/3/2012|531023156|       407|    152.58|    97.44|     62100.06|  39658.08|    22441.98|\n",
      "|                Asia|            Mongolia|   Clothes|       Online|             L|12/12/2015|770478332|       515|    109.28|    35.84|      56279.2|      NULL|     37821.6|\n",
      "|Central America a...|             Grenada|    Cereal|       Online|             H|10/28/2012|430390107|       852|     205.7|   117.11|     175256.4|      NULL|    75478.68|\n",
      "|  Sub-Saharan Africa|             Senegal| Beverages|      Offline|             M|10/22/2014|683927953|      NULL|     47.45|     NULL|     395448.3|      NULL|   130510.44|\n",
      "|       North America|           Greenland|    Fruits|      Offline|             M| 1/31/2012|469839179|      4709|      NULL|     6.92|     43934.97|  32586.28|    11348.69|\n",
      "+--------------------+--------------------+----------+-------------+--------------+----------+---------+----------+----------+---------+-------------+----------+------------+\n",
      "only showing top 20 rows\n",
      "\n"
     ]
    }
   ],
   "source": [
    "df_pyspark.show()"
   ]
  },
  {
   "cell_type": "code",
   "execution_count": 16,
   "id": "406490ee-42e3-4932-a6d2-190670775f0a",
   "metadata": {},
   "outputs": [
    {
     "name": "stdout",
     "output_type": "stream",
     "text": [
      "+--------------------+--------------------+----------+-------------+--------------+----------+---------+----------+----------+---------+-------------+----------+------------+------------------+------------------+-----------------+---------------------+------------------+\n",
      "|              Region|             Country| Item Type|Sales Channel|Order Priority|Order Date| Order ID|Units Sold|Unit Price|Unit Cost|Total Revenue|Total Cost|Total Profit|Units Sold_imputed|Unit Price_imputed|Unit Cost_imputed|Total Revenue_imputed|Total Cost_imputed|\n",
      "+--------------------+--------------------+----------+-------------+--------------+----------+---------+----------+----------+---------+-------------+----------+------------+------------------+------------------+-----------------+---------------------+------------------+\n",
      "|       North America|              Canada|Vegetables|       Online|             M| 11/7/2011|185941302|      NULL|    154.06|    90.93|         NULL| 274426.74|   190526.34|              5006|            154.06|            90.93|             785706.0|         274426.74|\n",
      "|Middle East and N...|               Libya| Baby Food|      Offline|             C|10/31/2016|246222341|      1517|      NULL|   159.42|    387259.76|      NULL|   145419.62|              1517|            154.06|           159.42|            387259.76|         448429.71|\n",
      "|                Asia|               Japan|    Cereal|      Offline|             C| 4/10/2010|161442649|      3322|     205.7|     NULL|     683335.4| 389039.42|   294295.98|              3322|             205.7|            97.44|             683335.4|         389039.42|\n",
      "|  Sub-Saharan Africa|                Chad|    Fruits|      Offline|             H| 8/16/2011|645713555|      9845|      9.33|     6.92|     91853.85|      NULL|    23726.45|              9845|              9.33|             6.92|             91853.85|         448429.71|\n",
      "|              Europe|             Armenia|    Cereal|       Online|             H|11/24/2014|683458888|      9528|     205.7|   117.11|         NULL|      NULL|   844085.52|              9528|             205.7|           117.11|             785706.0|         448429.71|\n",
      "|  Sub-Saharan Africa|             Eritrea|    Cereal|       Online|             H|  3/4/2015|679414975|      2844|      NULL|   117.11|     585010.8| 333060.84|   251949.96|              2844|            154.06|           117.11|             585010.8|         333060.84|\n",
      "|              Europe|          Montenegro|   Clothes|      Offline|             M| 5/17/2012|208630645|      7299|      NULL|    35.84|    797634.72| 261596.16|   536038.56|              7299|            154.06|            35.84|            797634.72|         261596.16|\n",
      "|Australia and Oce...|                Fiji|Vegetables|      Offline|             H|12/24/2013|118598544|      4800|      NULL|    90.93|     739488.0|  436464.0|    303024.0|              4800|            154.06|            90.93|             739488.0|          436464.0|\n",
      "|              Europe|          Montenegro|    Snacks|      Offline|             M| 2/27/2010|220003211|      2694|    152.58|     NULL|         NULL| 262503.36|   148547.16|              2694|            152.58|            97.44|             785706.0|         262503.36|\n",
      "|  Sub-Saharan Africa|               Sudan| Cosmetics|       Online|             C|12/20/2015|544485270|      4146|     437.2|   263.33|    1812631.2|1091766.18|   720865.02|              4146|             437.2|           263.33|            1812631.2|        1091766.18|\n",
      "|                Asia|            Maldives|    Fruits|      Offline|             L|  1/8/2011|714135205|      7332|      NULL|     6.92|     68407.56|  50737.44|    17670.12|              7332|            154.06|             6.92|             68407.56|          50737.44|\n",
      "|              Europe|          Montenegro|   Clothes|      Offline|             H| 6/28/2010|448685348|      4820|      NULL|     NULL|         NULL|  172748.8|    353980.8|              4820|            154.06|            97.44|             785706.0|          172748.8|\n",
      "|       North America|           Greenland| Beverages|       Online|             M| 7/27/2012|414244067|      2880|     47.45|    31.79|     136656.0|   91555.2|     45100.8|              2880|             47.45|            31.79|             136656.0|           91555.2|\n",
      "|  Sub-Saharan Africa|          Cape Verde|   Clothes|       Online|             C|  9/8/2014|821912801|      NULL|    109.28|    35.84|         NULL|  40033.28|    82032.48|              5006|            109.28|            35.84|             785706.0|          40033.28|\n",
      "|  Sub-Saharan Africa|             Senegal| Household|      Offline|             L| 8/27/2012|247802054|      8989|    668.27|   502.54|   6007079.03|4517332.06|  1489746.97|              8989|            668.27|           502.54|           6007079.03|        4517332.06|\n",
      "|Australia and Oce...|Federated States ...|    Snacks|       Online|             C|  9/3/2012|531023156|       407|    152.58|    97.44|     62100.06|  39658.08|    22441.98|               407|            152.58|            97.44|             62100.06|          39658.08|\n",
      "|                Asia|            Mongolia|   Clothes|       Online|             L|12/12/2015|770478332|       515|    109.28|    35.84|      56279.2|      NULL|     37821.6|               515|            109.28|            35.84|              56279.2|         448429.71|\n",
      "|Central America a...|             Grenada|    Cereal|       Online|             H|10/28/2012|430390107|       852|     205.7|   117.11|     175256.4|      NULL|    75478.68|               852|             205.7|           117.11|             175256.4|         448429.71|\n",
      "|  Sub-Saharan Africa|             Senegal| Beverages|      Offline|             M|10/22/2014|683927953|      NULL|     47.45|     NULL|     395448.3|      NULL|   130510.44|              5006|             47.45|            97.44|             395448.3|         448429.71|\n",
      "|       North America|           Greenland|    Fruits|      Offline|             M| 1/31/2012|469839179|      4709|      NULL|     6.92|     43934.97|  32586.28|    11348.69|              4709|            154.06|             6.92|             43934.97|          32586.28|\n",
      "+--------------------+--------------------+----------+-------------+--------------+----------+---------+----------+----------+---------+-------------+----------+------------+------------------+------------------+-----------------+---------------------+------------------+\n",
      "only showing top 20 rows\n",
      "\n"
     ]
    }
   ],
   "source": [
    "imputed_df = imputer.fit(df_pyspark).transform(df_pyspark)\n",
    "imputed_df.show()\n"
   ]
  },
  {
   "cell_type": "code",
   "execution_count": 17,
   "id": "61131efb-8226-443a-8bb4-4b64a813e329",
   "metadata": {},
   "outputs": [
    {
     "data": {
      "text/plain": [
       "Row(Region='North America', Country='Canada', Item Type='Vegetables', Sales Channel='Online', Order Priority='M', Order Date='11/7/2011', Order ID=185941302, Units Sold=None, Unit Price=154.06, Unit Cost=90.93, Total Revenue=None, Total Cost=274426.74, Total Profit=190526.34, Units Sold_imputed=5006, Unit Price_imputed=154.06, Unit Cost_imputed=90.93, Total Revenue_imputed=785706.0, Total Cost_imputed=274426.74)"
      ]
     },
     "execution_count": 17,
     "metadata": {},
     "output_type": "execute_result"
    }
   ],
   "source": [
    "imputed_df.head()"
   ]
  },
  {
   "cell_type": "code",
   "execution_count": 18,
   "id": "9a870af7-8a92-4995-abda-b53c31d87ac1",
   "metadata": {},
   "outputs": [
    {
     "ename": "PySparkTypeError",
     "evalue": "[NOT_COLUMN_OR_STR] Argument `col` should be a Column or str, got list.",
     "output_type": "error",
     "traceback": [
      "\u001b[0;31m---------------------------------------------------------------------------\u001b[0m",
      "\u001b[0;31mPySparkTypeError\u001b[0m                          Traceback (most recent call last)",
      "Cell \u001b[0;32mIn[18], line 1\u001b[0m\n\u001b[0;32m----> 1\u001b[0m imputed_df\u001b[38;5;241m=\u001b[39m\u001b[43mimputed_df\u001b[49m\u001b[38;5;241;43m.\u001b[39;49m\u001b[43mdrop\u001b[49m\u001b[43m(\u001b[49m\u001b[43m[\u001b[49m\u001b[38;5;124;43m'\u001b[39;49m\u001b[38;5;124;43mUnits Sold\u001b[39;49m\u001b[38;5;124;43m'\u001b[39;49m\u001b[43m,\u001b[49m\u001b[38;5;124;43m'\u001b[39;49m\u001b[38;5;124;43mUnit Price\u001b[39;49m\u001b[38;5;124;43m'\u001b[39;49m\u001b[43m,\u001b[49m\u001b[43m \u001b[49m\u001b[38;5;124;43m'\u001b[39;49m\u001b[38;5;124;43mUnit Cost\u001b[39;49m\u001b[38;5;124;43m'\u001b[39;49m\u001b[43m,\u001b[49m\u001b[43m \u001b[49m\u001b[38;5;124;43m'\u001b[39;49m\u001b[38;5;124;43mTotal Revenue\u001b[39;49m\u001b[38;5;124;43m'\u001b[39;49m\u001b[43m,\u001b[49m\u001b[38;5;124;43m'\u001b[39;49m\u001b[38;5;124;43mTotal Cost\u001b[39;49m\u001b[38;5;124;43m'\u001b[39;49m\u001b[43m]\u001b[49m\u001b[43m)\u001b[49m\n",
      "File \u001b[0;32m/Library/Frameworks/Python.framework/Versions/3.10/lib/python3.10/site-packages/pyspark/sql/dataframe.py:5437\u001b[0m, in \u001b[0;36mDataFrame.drop\u001b[0;34m(self, *cols)\u001b[0m\n\u001b[1;32m   5435\u001b[0m         java_columns\u001b[38;5;241m.\u001b[39mappend(c\u001b[38;5;241m.\u001b[39m_jc)\n\u001b[1;32m   5436\u001b[0m     \u001b[38;5;28;01melse\u001b[39;00m:\n\u001b[0;32m-> 5437\u001b[0m         \u001b[38;5;28;01mraise\u001b[39;00m PySparkTypeError(\n\u001b[1;32m   5438\u001b[0m             error_class\u001b[38;5;241m=\u001b[39m\u001b[38;5;124m\"\u001b[39m\u001b[38;5;124mNOT_COLUMN_OR_STR\u001b[39m\u001b[38;5;124m\"\u001b[39m,\n\u001b[1;32m   5439\u001b[0m             message_parameters\u001b[38;5;241m=\u001b[39m{\u001b[38;5;124m\"\u001b[39m\u001b[38;5;124marg_name\u001b[39m\u001b[38;5;124m\"\u001b[39m: \u001b[38;5;124m\"\u001b[39m\u001b[38;5;124mcol\u001b[39m\u001b[38;5;124m\"\u001b[39m, \u001b[38;5;124m\"\u001b[39m\u001b[38;5;124marg_type\u001b[39m\u001b[38;5;124m\"\u001b[39m: \u001b[38;5;28mtype\u001b[39m(c)\u001b[38;5;241m.\u001b[39m\u001b[38;5;18m__name__\u001b[39m},\n\u001b[1;32m   5440\u001b[0m         )\n\u001b[1;32m   5442\u001b[0m jdf \u001b[38;5;241m=\u001b[39m \u001b[38;5;28mself\u001b[39m\u001b[38;5;241m.\u001b[39m_jdf\n\u001b[1;32m   5443\u001b[0m \u001b[38;5;28;01mif\u001b[39;00m \u001b[38;5;28mlen\u001b[39m(java_columns) \u001b[38;5;241m>\u001b[39m \u001b[38;5;241m0\u001b[39m:\n",
      "\u001b[0;31mPySparkTypeError\u001b[0m: [NOT_COLUMN_OR_STR] Argument `col` should be a Column or str, got list."
     ]
    }
   ],
   "source": [
    "imputed_df=imputed_df.drop(['Units Sold','Unit Price', 'Unit Cost', 'Total Revenue','Total Cost'])"
   ]
  },
  {
   "cell_type": "code",
   "execution_count": 19,
   "id": "84b2f543-c16e-4c45-96fe-a76013d388b0",
   "metadata": {},
   "outputs": [
    {
     "name": "stdout",
     "output_type": "stream",
     "text": [
      "+--------------------+--------------------+----------+-------------+--------------+----------+---------+------------+------------------+------------------+-----------------+---------------------+------------------+\n",
      "|              Region|             Country| Item Type|Sales Channel|Order Priority|Order Date| Order ID|Total Profit|Units Sold_imputed|Unit Price_imputed|Unit Cost_imputed|Total Revenue_imputed|Total Cost_imputed|\n",
      "+--------------------+--------------------+----------+-------------+--------------+----------+---------+------------+------------------+------------------+-----------------+---------------------+------------------+\n",
      "|       North America|              Canada|Vegetables|       Online|             M| 11/7/2011|185941302|   190526.34|              5006|            154.06|            90.93|             785706.0|         274426.74|\n",
      "|Middle East and N...|               Libya| Baby Food|      Offline|             C|10/31/2016|246222341|   145419.62|              1517|            154.06|           159.42|            387259.76|         448429.71|\n",
      "|                Asia|               Japan|    Cereal|      Offline|             C| 4/10/2010|161442649|   294295.98|              3322|             205.7|            97.44|             683335.4|         389039.42|\n",
      "|  Sub-Saharan Africa|                Chad|    Fruits|      Offline|             H| 8/16/2011|645713555|    23726.45|              9845|              9.33|             6.92|             91853.85|         448429.71|\n",
      "|              Europe|             Armenia|    Cereal|       Online|             H|11/24/2014|683458888|   844085.52|              9528|             205.7|           117.11|             785706.0|         448429.71|\n",
      "|  Sub-Saharan Africa|             Eritrea|    Cereal|       Online|             H|  3/4/2015|679414975|   251949.96|              2844|            154.06|           117.11|             585010.8|         333060.84|\n",
      "|              Europe|          Montenegro|   Clothes|      Offline|             M| 5/17/2012|208630645|   536038.56|              7299|            154.06|            35.84|            797634.72|         261596.16|\n",
      "|Australia and Oce...|                Fiji|Vegetables|      Offline|             H|12/24/2013|118598544|    303024.0|              4800|            154.06|            90.93|             739488.0|          436464.0|\n",
      "|              Europe|          Montenegro|    Snacks|      Offline|             M| 2/27/2010|220003211|   148547.16|              2694|            152.58|            97.44|             785706.0|         262503.36|\n",
      "|  Sub-Saharan Africa|               Sudan| Cosmetics|       Online|             C|12/20/2015|544485270|   720865.02|              4146|             437.2|           263.33|            1812631.2|        1091766.18|\n",
      "|                Asia|            Maldives|    Fruits|      Offline|             L|  1/8/2011|714135205|    17670.12|              7332|            154.06|             6.92|             68407.56|          50737.44|\n",
      "|              Europe|          Montenegro|   Clothes|      Offline|             H| 6/28/2010|448685348|    353980.8|              4820|            154.06|            97.44|             785706.0|          172748.8|\n",
      "|       North America|           Greenland| Beverages|       Online|             M| 7/27/2012|414244067|     45100.8|              2880|             47.45|            31.79|             136656.0|           91555.2|\n",
      "|  Sub-Saharan Africa|          Cape Verde|   Clothes|       Online|             C|  9/8/2014|821912801|    82032.48|              5006|            109.28|            35.84|             785706.0|          40033.28|\n",
      "|  Sub-Saharan Africa|             Senegal| Household|      Offline|             L| 8/27/2012|247802054|  1489746.97|              8989|            668.27|           502.54|           6007079.03|        4517332.06|\n",
      "|Australia and Oce...|Federated States ...|    Snacks|       Online|             C|  9/3/2012|531023156|    22441.98|               407|            152.58|            97.44|             62100.06|          39658.08|\n",
      "|                Asia|            Mongolia|   Clothes|       Online|             L|12/12/2015|770478332|     37821.6|               515|            109.28|            35.84|              56279.2|         448429.71|\n",
      "|Central America a...|             Grenada|    Cereal|       Online|             H|10/28/2012|430390107|    75478.68|               852|             205.7|           117.11|             175256.4|         448429.71|\n",
      "|  Sub-Saharan Africa|             Senegal| Beverages|      Offline|             M|10/22/2014|683927953|   130510.44|              5006|             47.45|            97.44|             395448.3|         448429.71|\n",
      "|       North America|           Greenland|    Fruits|      Offline|             M| 1/31/2012|469839179|    11348.69|              4709|            154.06|             6.92|             43934.97|          32586.28|\n",
      "+--------------------+--------------------+----------+-------------+--------------+----------+---------+------------+------------------+------------------+-----------------+---------------------+------------------+\n",
      "only showing top 20 rows\n",
      "\n"
     ]
    }
   ],
   "source": [
    "# Drop specified columns\n",
    "columns_to_drop = ['Units Sold', 'Unit Price', 'Unit Cost', 'Total Revenue', 'Total Cost']\n",
    "imputed_df = imputed_df.drop(*columns_to_drop)\n",
    "\n",
    "# Show the DataFrame after dropping columns\n",
    "imputed_df.show()\n"
   ]
  },
  {
   "cell_type": "code",
   "execution_count": 20,
   "id": "2eca47f3-044b-4da6-a318-b66e10f92220",
   "metadata": {},
   "outputs": [
    {
     "ename": "AnalysisException",
     "evalue": "[PATH_ALREADY_EXISTS] Path file:/Users/ayushkumar/Documents/practical/CHS/pyspark/imputed_data.csv already exists. Set mode as \"overwrite\" to overwrite the existing path.",
     "output_type": "error",
     "traceback": [
      "\u001b[0;31m---------------------------------------------------------------------------\u001b[0m",
      "\u001b[0;31mAnalysisException\u001b[0m                         Traceback (most recent call last)",
      "Cell \u001b[0;32mIn[20], line 1\u001b[0m\n\u001b[0;32m----> 1\u001b[0m \u001b[43mimputed_df\u001b[49m\u001b[38;5;241;43m.\u001b[39;49m\u001b[43mwrite\u001b[49m\u001b[38;5;241;43m.\u001b[39;49m\u001b[43mcsv\u001b[49m\u001b[43m(\u001b[49m\u001b[38;5;124;43m\"\u001b[39;49m\u001b[38;5;124;43mimputed_data.csv\u001b[39;49m\u001b[38;5;124;43m\"\u001b[39;49m\u001b[43m,\u001b[49m\u001b[43m \u001b[49m\u001b[43mheader\u001b[49m\u001b[38;5;241;43m=\u001b[39;49m\u001b[38;5;28;43;01mTrue\u001b[39;49;00m\u001b[43m)\u001b[49m\n",
      "File \u001b[0;32m/Library/Frameworks/Python.framework/Versions/3.10/lib/python3.10/site-packages/pyspark/sql/readwriter.py:1864\u001b[0m, in \u001b[0;36mDataFrameWriter.csv\u001b[0;34m(self, path, mode, compression, sep, quote, escape, header, nullValue, escapeQuotes, quoteAll, dateFormat, timestampFormat, ignoreLeadingWhiteSpace, ignoreTrailingWhiteSpace, charToEscapeQuoteEscaping, encoding, emptyValue, lineSep)\u001b[0m\n\u001b[1;32m   1845\u001b[0m \u001b[38;5;28mself\u001b[39m\u001b[38;5;241m.\u001b[39mmode(mode)\n\u001b[1;32m   1846\u001b[0m \u001b[38;5;28mself\u001b[39m\u001b[38;5;241m.\u001b[39m_set_opts(\n\u001b[1;32m   1847\u001b[0m     compression\u001b[38;5;241m=\u001b[39mcompression,\n\u001b[1;32m   1848\u001b[0m     sep\u001b[38;5;241m=\u001b[39msep,\n\u001b[0;32m   (...)\u001b[0m\n\u001b[1;32m   1862\u001b[0m     lineSep\u001b[38;5;241m=\u001b[39mlineSep,\n\u001b[1;32m   1863\u001b[0m )\n\u001b[0;32m-> 1864\u001b[0m \u001b[38;5;28;43mself\u001b[39;49m\u001b[38;5;241;43m.\u001b[39;49m\u001b[43m_jwrite\u001b[49m\u001b[38;5;241;43m.\u001b[39;49m\u001b[43mcsv\u001b[49m\u001b[43m(\u001b[49m\u001b[43mpath\u001b[49m\u001b[43m)\u001b[49m\n",
      "File \u001b[0;32m/Library/Frameworks/Python.framework/Versions/3.10/lib/python3.10/site-packages/py4j/java_gateway.py:1322\u001b[0m, in \u001b[0;36mJavaMember.__call__\u001b[0;34m(self, *args)\u001b[0m\n\u001b[1;32m   1316\u001b[0m command \u001b[38;5;241m=\u001b[39m proto\u001b[38;5;241m.\u001b[39mCALL_COMMAND_NAME \u001b[38;5;241m+\u001b[39m\\\n\u001b[1;32m   1317\u001b[0m     \u001b[38;5;28mself\u001b[39m\u001b[38;5;241m.\u001b[39mcommand_header \u001b[38;5;241m+\u001b[39m\\\n\u001b[1;32m   1318\u001b[0m     args_command \u001b[38;5;241m+\u001b[39m\\\n\u001b[1;32m   1319\u001b[0m     proto\u001b[38;5;241m.\u001b[39mEND_COMMAND_PART\n\u001b[1;32m   1321\u001b[0m answer \u001b[38;5;241m=\u001b[39m \u001b[38;5;28mself\u001b[39m\u001b[38;5;241m.\u001b[39mgateway_client\u001b[38;5;241m.\u001b[39msend_command(command)\n\u001b[0;32m-> 1322\u001b[0m return_value \u001b[38;5;241m=\u001b[39m \u001b[43mget_return_value\u001b[49m\u001b[43m(\u001b[49m\n\u001b[1;32m   1323\u001b[0m \u001b[43m    \u001b[49m\u001b[43manswer\u001b[49m\u001b[43m,\u001b[49m\u001b[43m \u001b[49m\u001b[38;5;28;43mself\u001b[39;49m\u001b[38;5;241;43m.\u001b[39;49m\u001b[43mgateway_client\u001b[49m\u001b[43m,\u001b[49m\u001b[43m \u001b[49m\u001b[38;5;28;43mself\u001b[39;49m\u001b[38;5;241;43m.\u001b[39;49m\u001b[43mtarget_id\u001b[49m\u001b[43m,\u001b[49m\u001b[43m \u001b[49m\u001b[38;5;28;43mself\u001b[39;49m\u001b[38;5;241;43m.\u001b[39;49m\u001b[43mname\u001b[49m\u001b[43m)\u001b[49m\n\u001b[1;32m   1325\u001b[0m \u001b[38;5;28;01mfor\u001b[39;00m temp_arg \u001b[38;5;129;01min\u001b[39;00m temp_args:\n\u001b[1;32m   1326\u001b[0m     \u001b[38;5;28;01mif\u001b[39;00m \u001b[38;5;28mhasattr\u001b[39m(temp_arg, \u001b[38;5;124m\"\u001b[39m\u001b[38;5;124m_detach\u001b[39m\u001b[38;5;124m\"\u001b[39m):\n",
      "File \u001b[0;32m/Library/Frameworks/Python.framework/Versions/3.10/lib/python3.10/site-packages/pyspark/errors/exceptions/captured.py:185\u001b[0m, in \u001b[0;36mcapture_sql_exception.<locals>.deco\u001b[0;34m(*a, **kw)\u001b[0m\n\u001b[1;32m    181\u001b[0m converted \u001b[38;5;241m=\u001b[39m convert_exception(e\u001b[38;5;241m.\u001b[39mjava_exception)\n\u001b[1;32m    182\u001b[0m \u001b[38;5;28;01mif\u001b[39;00m \u001b[38;5;129;01mnot\u001b[39;00m \u001b[38;5;28misinstance\u001b[39m(converted, UnknownException):\n\u001b[1;32m    183\u001b[0m     \u001b[38;5;66;03m# Hide where the exception came from that shows a non-Pythonic\u001b[39;00m\n\u001b[1;32m    184\u001b[0m     \u001b[38;5;66;03m# JVM exception message.\u001b[39;00m\n\u001b[0;32m--> 185\u001b[0m     \u001b[38;5;28;01mraise\u001b[39;00m converted \u001b[38;5;28;01mfrom\u001b[39;00m \u001b[38;5;28;01mNone\u001b[39;00m\n\u001b[1;32m    186\u001b[0m \u001b[38;5;28;01melse\u001b[39;00m:\n\u001b[1;32m    187\u001b[0m     \u001b[38;5;28;01mraise\u001b[39;00m\n",
      "\u001b[0;31mAnalysisException\u001b[0m: [PATH_ALREADY_EXISTS] Path file:/Users/ayushkumar/Documents/practical/CHS/pyspark/imputed_data.csv already exists. Set mode as \"overwrite\" to overwrite the existing path."
     ]
    }
   ],
   "source": [
    "imputed_df.write.csv(\"imputed_data.csv\", header=True)"
   ]
  },
  {
   "cell_type": "code",
   "execution_count": null,
   "id": "46c7d683-edf5-4ebf-b954-19da8f58ef72",
   "metadata": {},
   "outputs": [],
   "source": []
  }
 ],
 "metadata": {
  "kernelspec": {
   "display_name": "Python 3 (ipykernel)",
   "language": "python",
   "name": "python3"
  },
  "language_info": {
   "codemirror_mode": {
    "name": "ipython",
    "version": 3
   },
   "file_extension": ".py",
   "mimetype": "text/x-python",
   "name": "python",
   "nbconvert_exporter": "python",
   "pygments_lexer": "ipython3",
   "version": "3.12.0"
  }
 },
 "nbformat": 4,
 "nbformat_minor": 5
}
